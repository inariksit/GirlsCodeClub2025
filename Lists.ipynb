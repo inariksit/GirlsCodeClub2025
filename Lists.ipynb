{
 "cells": [
  {
   "cell_type": "markdown",
   "id": "dbfaec75-8010-41bc-a486-94dcf0f15ce4",
   "metadata": {},
   "source": [
    "# Agenda\n",
    "\n",
    "#### What is a **🅳🆁🆈** code?\n",
    "#### **What** are lists? **When** and **Why** should we use Lists?\n",
    "#### How do we **create lists**? How to **access elements** in a list?\n",
    "#### **What operations** can I do with lists?\n",
    "#### How can we **break down a String** into a list?\n",
    "\n",
    "\n",
    "----"
   ]
  },
  {
   "cell_type": "markdown",
   "id": "21e617a9-dfd6-4230-8028-46c8a806395f",
   "metadata": {},
   "source": [
    "## Average and max temperatures for past 4 days"
   ]
  },
  {
   "cell_type": "code",
   "execution_count": 1,
   "id": "a9129945-0cf5-4cfe-a5de-fc996c6c08f0",
   "metadata": {},
   "outputs": [
    {
     "name": "stdout",
     "output_type": "stream",
     "text": [
      "Average temperature was 23.5\n",
      "Maximum temperature was 29\n"
     ]
    }
   ],
   "source": [
    "temp1 = 29\n",
    "temp2 = 20\n",
    "temp3 = 22\n",
    "temp4 = 23 \n",
    "\n",
    "avg_temp = (temp1 + temp2 + temp3 + temp4) / 4\n",
    "\n",
    "max_temp = max(temp1, temp2, temp3, temp4)\n",
    "\n",
    "print(f\"Average temperature was {avg_temp}\")\n",
    "print(f\"Maximum temperature was {max_temp}\")"
   ]
  },
  {
   "cell_type": "code",
   "execution_count": null,
   "id": "32e5d11b-d656-4b66-a2c0-d9649cb85036",
   "metadata": {},
   "outputs": [],
   "source": []
  },
  {
   "cell_type": "markdown",
   "id": "186f33bd-e5e4-4815-b08d-a8119a5fec32",
   "metadata": {},
   "source": [
    "## Average and max temperatures for past ~4~ 7 days 😰"
   ]
  },
  {
   "cell_type": "code",
   "execution_count": 2,
   "id": "45c40d7e-e046-42a5-bc57-587ea406ecb4",
   "metadata": {},
   "outputs": [
    {
     "name": "stdout",
     "output_type": "stream",
     "text": [
      "Average temperature was 22.571428571428573\n",
      "Maximum temperature was 29\n"
     ]
    }
   ],
   "source": [
    "temp1 = 29\n",
    "temp2 = 20\n",
    "temp3 = 22\n",
    "temp4 = 23 \n",
    "temp5 = 24\n",
    "temp6 = 19\n",
    "temp7 = 21\n",
    "\n",
    "avg_temp = (temp1 + temp2 + temp3 + temp4 + temp5 + temp6 + temp7) / 7\n",
    "\n",
    "max_temp = max(temp1, temp2, temp3, temp4, temp5, temp6, temp7)\n",
    "\n",
    "print(f\"Average temperature was {avg_temp}\")\n",
    "print(f\"Maximum temperature was {max_temp}\")"
   ]
  },
  {
   "cell_type": "markdown",
   "id": "8a313e45-cbca-4508-a32b-0947f95408e6",
   "metadata": {},
   "source": [
    "_______"
   ]
  },
  {
   "cell_type": "markdown",
   "id": "652a958a-f077-4739-aecb-cbf664ba70b8",
   "metadata": {},
   "source": [
    "# When coding, avoid repetition\n",
    "- **D**on't\n",
    "- **R**epeat\n",
    "- **Y**ourself\n",
    "### Fix the problem by using a **list** 📋"
   ]
  },
  {
   "cell_type": "markdown",
   "id": "0b79657e-9fd6-4b42-9509-f0944d444444",
   "metadata": {
    "jp-MarkdownHeadingCollapsed": true
   },
   "source": [
    "### **What**\n",
    "- A list is a sequence of values. \n",
    "- The values in a list are called **elements** or **items**. \n",
    "- The list itself is **a variable**."
   ]
  },
  {
   "cell_type": "markdown",
   "id": "d855031b-dcf9-445f-a2a8-c7709db2060c",
   "metadata": {},
   "source": [
    "### **Why**\n",
    "- Use it when we need to **store and operate on multiple values**.\n",
    "- Those values “belong together”.\n",
    "- In Python, lists can store values of multiple types. (Risky!)"
   ]
  },
  {
   "cell_type": "markdown",
   "id": "8f59006e-df59-4a79-b279-4d36311a30b0",
   "metadata": {},
   "source": [
    "### **How**\n",
    "- Written between `[` brackets `]`\n",
    "```python\n",
    "scientists = [\"Ada Lovelace\", \"Grace Hopper\", \"Mary Kenneth\"]\n",
    "engineers  = [\"Dorothy Vaughan\", \"Margaret Hamilton\", \"Hedy Lamarr\"]\n",
    "```\n",
    "\n",
    "<font size=\"1\">https://en.wikipedia.org/wiki/Ada_Lovelace, https://en.wikipedia.org/wiki/Grace_Hopper, https://en.wikipedia.org/wiki/Mary_Kenneth_Keller, https://en.wikipedia.org/wiki/Dorothy_Vaughan, https://en.wikipedia.org/wiki/Margaret_Hamilton_(software_engineer), https://en.wikipedia.org/wiki/Hedy_Lamarr</font>\n"
   ]
  },
  {
   "cell_type": "code",
   "execution_count": 3,
   "id": "1a18ef9d-eca2-4877-968b-80091a3ed030",
   "metadata": {},
   "outputs": [],
   "source": [
    "scientists = [\"Ada Lovelace\", \"Grace Hopper\", \"Mary Kenneth\"]\n",
    "engineers  = [\"Dorothy Vaughan\", \"Margaret Hamilton\", \"Hedy Lamarr\"]"
   ]
  },
  {
   "cell_type": "code",
   "execution_count": 4,
   "id": "6a5f3387-b899-4fe4-ac53-c2468ee94f67",
   "metadata": {},
   "outputs": [
    {
     "data": {
      "text/plain": [
       "['Ada Lovelace', 'Grace Hopper', 'Mary Kenneth']"
      ]
     },
     "execution_count": 4,
     "metadata": {},
     "output_type": "execute_result"
    }
   ],
   "source": [
    "scientists"
   ]
  },
  {
   "cell_type": "markdown",
   "id": "b79548e3-b301-4b7d-9ef5-e02139b5843b",
   "metadata": {},
   "source": [
    "- We get values using an **index**. The first element is in index **0**. Last is **-1**.\n",
    "\n",
    "```python\n",
    "scientists[2] ⟶ ?\n",
    "```"
   ]
  },
  {
   "cell_type": "markdown",
   "id": "761372ac-b889-4e83-befc-22ea261e410e",
   "metadata": {},
   "source": [
    "- We can operate in lists similarly to other variables:\n",
    "`+` to concatenate; `*` to repeat.\n",
    "\n",
    "```python\n",
    "scientists + engineers ⟶ ?\n",
    "engineers * 3 ⟶ ?\n",
    "```"
   ]
  },
  {
   "cell_type": "code",
   "execution_count": 5,
   "id": "053fded6-e76f-4551-8bca-40f80982582d",
   "metadata": {},
   "outputs": [
    {
     "data": {
      "text/plain": [
       "['Ada Lovelace',\n",
       " 'Grace Hopper',\n",
       " 'Mary Kenneth',\n",
       " 'Dorothy Vaughan',\n",
       " 'Margaret Hamilton',\n",
       " 'Hedy Lamarr']"
      ]
     },
     "execution_count": 5,
     "metadata": {},
     "output_type": "execute_result"
    }
   ],
   "source": [
    "scientists + engineers"
   ]
  },
  {
   "cell_type": "code",
   "execution_count": 6,
   "id": "b3d8b6de-d493-492c-a671-3517d4a52e44",
   "metadata": {},
   "outputs": [
    {
     "data": {
      "text/plain": [
       "['Dorothy Vaughan',\n",
       " 'Margaret Hamilton',\n",
       " 'Hedy Lamarr',\n",
       " 'Dorothy Vaughan',\n",
       " 'Margaret Hamilton',\n",
       " 'Hedy Lamarr',\n",
       " 'Dorothy Vaughan',\n",
       " 'Margaret Hamilton',\n",
       " 'Hedy Lamarr']"
      ]
     },
     "execution_count": 6,
     "metadata": {},
     "output_type": "execute_result"
    }
   ],
   "source": [
    "engineers * 3"
   ]
  },
  {
   "cell_type": "code",
   "execution_count": 7,
   "id": "5df1ac44-464f-4f36-9f4b-a6760a8cc55e",
   "metadata": {},
   "outputs": [
    {
     "name": "stdout",
     "output_type": "stream",
     "text": [
      "['Dorothy Vaughan', 'Margaret Hamilton', 'Hedy Lamarr']\n"
     ]
    },
    {
     "data": {
      "text/plain": [
       "3"
      ]
     },
     "execution_count": 7,
     "metadata": {},
     "output_type": "execute_result"
    }
   ],
   "source": [
    "print(engineers)\n",
    "len(engineers)"
   ]
  },
  {
   "cell_type": "markdown",
   "id": "bf4845c9-1e91-498a-b183-4c60be44c294",
   "metadata": {},
   "source": [
    "- Use `len( … )` to get the length of a list:\n",
    "    ```python\n",
    "    len(engineers) ⟶ ?\n",
    "    ```\n",
    "\n",
    "- Use `:` to take a _slice_ the list:\n",
    "  ```python\n",
    "  list_name[a:b]\n",
    "  ```\n",
    "  Includes index a but excludes index b. \n",
    "\n",
    "- If we omit `a` or `b`, Python replaces it with the beginning and end.\n",
    "  ```python\n",
    "  scientists[1:3] ⟶ ?\n",
    "  ```\n",
    "_____\n"
   ]
  },
  {
   "cell_type": "code",
   "execution_count": 8,
   "id": "858a78de-dec2-459e-b43b-369502c8ac67",
   "metadata": {},
   "outputs": [
    {
     "name": "stdout",
     "output_type": "stream",
     "text": [
      "['Ada Lovelace', 'Grace Hopper', 'Mary Kenneth']\n"
     ]
    },
    {
     "data": {
      "text/plain": [
       "['Grace Hopper', 'Ada Lovelace']"
      ]
     },
     "execution_count": 8,
     "metadata": {},
     "output_type": "execute_result"
    }
   ],
   "source": [
    "print(scientists)\n",
    "scientists[0:2][::-1]"
   ]
  },
  {
   "cell_type": "code",
   "execution_count": null,
   "id": "825c0955-a284-41b4-aed6-310b2cc73ea6",
   "metadata": {},
   "outputs": [],
   "source": []
  },
  {
   "cell_type": "code",
   "execution_count": null,
   "id": "6a56dd0f-9371-4482-b451-192a32d973ec",
   "metadata": {},
   "outputs": [],
   "source": []
  },
  {
   "cell_type": "code",
   "execution_count": null,
   "id": "20e19497-10bd-40b9-a73a-1ef253dc1157",
   "metadata": {},
   "outputs": [],
   "source": []
  },
  {
   "cell_type": "markdown",
   "id": "75378e85-75c8-419b-9677-21ffecbe745c",
   "metadata": {},
   "source": [
    "## Exercise: Improve this code by using a list"
   ]
  },
  {
   "cell_type": "code",
   "execution_count": 9,
   "id": "618e56c2-80d2-4179-8f53-15f305be8f33",
   "metadata": {},
   "outputs": [
    {
     "name": "stdout",
     "output_type": "stream",
     "text": [
      "Average temperature was 22.571428571428573\n",
      "Maximum temperature was 29\n"
     ]
    }
   ],
   "source": [
    "temps = [29, 20, 22, 23 , 24, 19, 21] \n",
    "avg_temp = sum(temps) / len(temps)\n",
    "max_temp = max(temps)\n",
    "\n",
    "print(f\"Average temperature was {avg_temp}\")\n",
    "print(f\"Maximum temperature was {max_temp}\")"
   ]
  },
  {
   "cell_type": "markdown",
   "id": "a5234a9b-6ea2-4109-82a8-50d0fd6f95ee",
   "metadata": {},
   "source": [
    "### Hints\n",
    "- Python has a builtin function `sum( … )` that takes a list\n",
    "- `max( … )` works for lists or multiple arguments!"
   ]
  },
  {
   "cell_type": "markdown",
   "id": "19f95a49-c9e2-49ed-a813-e5c42ef8dabd",
   "metadata": {},
   "source": [
    "## Interlude: what is `None`?"
   ]
  },
  {
   "cell_type": "code",
   "execution_count": 10,
   "id": "ae33953c-61f2-431c-9a39-216b865dedc6",
   "metadata": {},
   "outputs": [
    {
     "name": "stdout",
     "output_type": "stream",
     "text": [
      "hello\n",
      "None\n"
     ]
    }
   ],
   "source": [
    "print(print(\"hello\"))"
   ]
  },
  {
   "cell_type": "markdown",
   "id": "27d5a94d-05a2-4a57-9bbe-10cd10877ab5",
   "metadata": {},
   "source": [
    "______"
   ]
  },
  {
   "cell_type": "markdown",
   "id": "f727932d-a615-44c4-b59e-514379cac29b",
   "metadata": {},
   "source": [
    "## List operations\n",
    "- Lists are **mutable**. This means that we can **change their values** as we want.\n",
    "- We can apply many operations on list variables: \n",
    "```python\n",
    "append, extend, sort, zip, enumerate, map, filter, …\n",
    "```"
   ]
  },
  {
   "cell_type": "code",
   "execution_count": 11,
   "id": "9ee7900b-1f4a-403d-9b76-3dcdfd41fe6a",
   "metadata": {},
   "outputs": [
    {
     "name": "stdout",
     "output_type": "stream",
     "text": [
      "['Ada Lovelace', 'Grace Hopper', 'Mary Kenneth']\n",
      "['Dorothy Vaughan', 'Margaret Hamilton', 'Hedy Lamarr']\n"
     ]
    }
   ],
   "source": [
    "scientists = [\"Ada Lovelace\", \"Grace Hopper\", \"Mary Kenneth\"]\n",
    "engineers  = [\"Dorothy Vaughan\", \"Margaret Hamilton\", \"Hedy Lamarr\"]\n",
    "print(scientists)\n",
    "print(engineers)"
   ]
  },
  {
   "cell_type": "code",
   "execution_count": 12,
   "id": "91b4b1bd-1f6c-4bf9-b847-a84164b5007c",
   "metadata": {},
   "outputs": [
    {
     "name": "stdout",
     "output_type": "stream",
     "text": [
      "['Dorothy Vaughan', 'Margaret Hamilton', 'Hedy Lamarr', 'Alexis King']\n"
     ]
    }
   ],
   "source": [
    "# Append a new engineer\n",
    "engineers.append(\"Alexis King\")\n",
    "print(engineers)"
   ]
  },
  {
   "cell_type": "markdown",
   "id": "5febb5dc-2175-4873-b199-7d6ec809e172",
   "metadata": {},
   "source": [
    "### Combining two lists"
   ]
  },
  {
   "cell_type": "code",
   "execution_count": 13,
   "id": "50b2e1cd-53a7-4e7d-9f03-5cc65cf54b59",
   "metadata": {},
   "outputs": [
    {
     "name": "stdout",
     "output_type": "stream",
     "text": [
      "Engineers + scientists ['Dorothy Vaughan', 'Margaret Hamilton', 'Hedy Lamarr', 'Alexis King', 'Ada Lovelace', 'Grace Hopper', 'Mary Kenneth']\n",
      "Original engineers ['Dorothy Vaughan', 'Margaret Hamilton', 'Hedy Lamarr', 'Alexis King']\n",
      "Original scientists ['Ada Lovelace', 'Grace Hopper', 'Mary Kenneth']\n"
     ]
    }
   ],
   "source": [
    "#1: just concatenate with +\n",
    "print(\"Engineers + scientists\", engineers + scientists)\n",
    "print(\"Original engineers\", engineers)\n",
    "print(\"Original scientists\",scientists)"
   ]
  },
  {
   "cell_type": "code",
   "execution_count": 14,
   "id": "8b8fdb40-72f8-477b-ae69-b2882a7bcc14",
   "metadata": {},
   "outputs": [
    {
     "name": "stdout",
     "output_type": "stream",
     "text": [
      "Modified engineers ['Dorothy Vaughan', 'Margaret Hamilton', 'Hedy Lamarr', 'Alexis King', 'Ada Lovelace', 'Grace Hopper', 'Mary Kenneth']\n",
      "Original scientists ['Ada Lovelace', 'Grace Hopper', 'Mary Kenneth']\n",
      "Modified scientists ['Ada Lovelace', 'Grace Hopper', 'Mary Kenneth', 'Dorothy Vaughan', 'Margaret Hamilton', 'Hedy Lamarr', 'Alexis King', 'Ada Lovelace', 'Grace Hopper', 'Mary Kenneth']\n",
      "['Grace Hopper', 'Mary Kenneth', 'Dorothy Vaughan', 'Margaret Hamilton', 'Hedy Lamarr', 'Alexis King', 'Ada Lovelace', 'Grace Hopper', 'Mary Kenneth']\n"
     ]
    }
   ],
   "source": [
    "#2: Extend one list with the other\n",
    "# The first list is modified, the second list not\n",
    "engineers.extend(scientists)\n",
    "\n",
    "print(\"Modified engineers\", engineers)\n",
    "print(\"Original scientists\",scientists)\n",
    "\n",
    "scientists.extend(engineers)\n",
    "print(\"Modified scientists\",scientists)\n",
    "\n",
    "scientists.remove(\"Ada Lovelace\")\n",
    "print(scientists)\n",
    "## Potential exercise: remove duplicates from the list of scientists"
   ]
  },
  {
   "cell_type": "code",
   "execution_count": 15,
   "id": "f0fdb58c-9d2b-4c51-b360-165c6e7fe47b",
   "metadata": {
    "scrolled": true
   },
   "outputs": [
    {
     "name": "stdout",
     "output_type": "stream",
     "text": [
      "Ada Lovelace and Dorothy Vaughan are besties\n",
      "Grace Hopper and Margaret Hamilton are besties\n",
      "Mary Kenneth and Hedy Lamarr are besties\n",
      "['Dorothy Vaughan', 'Hedy Lamarr', 'Margaret Hamilton']\n"
     ]
    }
   ],
   "source": [
    "scientists = [\"Ada Lovelace\", \"Grace Hopper\", \"Mary Kenneth\"]\n",
    "engineers  = [\"Dorothy Vaughan\", \"Margaret Hamilton\", \"Hedy Lamarr\"]\n",
    "\n",
    "besties = zip(scientists, engineers)\n",
    "#print(list(besties))\n",
    "for scientist, engineer in besties:\n",
    "    print(f\"{scientist} and {engineer} are besties\")"
   ]
  },
  {
   "cell_type": "code",
   "execution_count": 16,
   "id": "61783c94-02c2-4aab-bdd0-84e2da884e26",
   "metadata": {},
   "outputs": [
    {
     "name": "stdout",
     "output_type": "stream",
     "text": [
      "['Dorothy Vaughan', 'Hedy Lamarr']\n",
      "['Dorothy Vaughan', 'Hedy Lamarr', 'Margaret Hamilton']\n"
     ]
    }
   ],
   "source": [
    "print(engineers[0:2])\n",
    "print(engineers)"
   ]
  },
  {
   "cell_type": "markdown",
   "id": "f1e5b8a4-1295-4292-b17f-37f7273040e1",
   "metadata": {},
   "source": [
    "## Removing elements from list\n",
    "\n",
    "- Use  `del` to remove elements in a specific index.\n",
    "- Use `remove( … )` to remove a specific value.\n",
    "- Use `pop()` to remove and return the last item.\n",
    "\n",
    "```python\n",
    "fruits = [\"apple\", \"banana\", \"cherry\", \"date\"]\n",
    "del fruits[0] ⟶ ?\n",
    "best_fruit = fruits.pop()\n",
    "\n",
    "best_fruit ⟶ ?\n",
    "```\n",
    "\n",
    "### The list changes dynamically as we remove or add elements\n",
    "\n",
    "____"
   ]
  },
  {
   "cell_type": "code",
   "execution_count": 17,
   "id": "03cd3af0-4e95-4438-ae4c-4f340dad0d17",
   "metadata": {},
   "outputs": [
    {
     "name": "stdout",
     "output_type": "stream",
     "text": [
      "Best fruit is date. Remaining fruits: ['apple', 'banana', 'cherry']\n",
      "Original fruits: ['apple', 'banana', 'cherry']\n",
      "Result of popping fruits cherry\n",
      "Popped fruits: ['apple', 'banana']\n",
      "Result of removing apple None\n",
      "Removed apple from fruits: ['banana']\n"
     ]
    }
   ],
   "source": [
    "fruits = [\"apple\", \"banana\", \"cherry\", \"date\"]\n",
    "\n",
    "best_fruit = fruits.pop()\n",
    "print(f\"Best fruit is {best_fruit}. Remaining fruits: {fruits}\")\n",
    "print(\"Original fruits:\", fruits)\n",
    "\n",
    "print(\"Result of popping fruits\", fruits.pop())\n",
    "print(\"Popped fruits:\",fruits)\n",
    "\n",
    "print(\"Result of removing apple\", fruits.remove(\"apple\"))\n",
    "print(\"Removed apple from fruits:\", fruits)"
   ]
  },
  {
   "cell_type": "markdown",
   "id": "464ca23d-4aa8-491a-9ca9-8f551a7ab614",
   "metadata": {},
   "source": [
    "# Exercises\n",
    "\n",
    "Read the age, calculate average and oldest age of 5 individuals"
   ]
  },
  {
   "cell_type": "code",
   "execution_count": 18,
   "id": "818e1a82-584a-4d84-893f-2d9d74da982b",
   "metadata": {},
   "outputs": [
    {
     "name": "stdin",
     "output_type": "stream",
     "text": [
      "Type the age of person 1:  10\n",
      "Type the age of person 2:  20\n",
      "Type the age of person 3:  30\n",
      "Type the age of person 4:  40\n",
      "Type the age of person 5:  50\n"
     ]
    },
    {
     "name": "stdout",
     "output_type": "stream",
     "text": [
      "[10, 20, 30, 40, 50]\n"
     ]
    }
   ],
   "source": [
    "all_ages = [] # \"accumulator\"\n",
    "for i in range(1,6):\n",
    "    age = int(input(f\"Type the age of person {i}: \"))\n",
    "    all_ages.append(age)\n",
    "\n",
    "print(all_ages)\n",
    "\n",
    "# calculate average\n",
    "# calculate oldest\n",
    "# print average\n",
    "# print oldest"
   ]
  },
  {
   "cell_type": "code",
   "execution_count": null,
   "id": "79b94cbc-d060-4cc9-8b7a-ecb3ace56dce",
   "metadata": {},
   "outputs": [],
   "source": []
  },
  {
   "cell_type": "code",
   "execution_count": null,
   "id": "ee7af8d4-482a-4a05-9747-b4382b5b0872",
   "metadata": {},
   "outputs": [],
   "source": []
  },
  {
   "cell_type": "markdown",
   "id": "874fd7b7-42da-4c80-a286-5a0f83e9dc04",
   "metadata": {},
   "source": [
    "# Strings as a list of characters\n",
    "\n",
    "- `split( … )`\n",
    "- `join( … )`\n",
    "- Find people whose first name and surname starts with same letter\n",
    "- Revisit Ex 2 [from yesterday](https://docs.google.com/document/d/1EUy7irOmUDaHvzs06dJMwinss_FtUk8tVaISSSV57E8/edit?tab=t.0) (we didn't know lists yet!) "
   ]
  },
  {
   "cell_type": "code",
   "execution_count": 19,
   "id": "3a92edd1-ea04-4fc2-a229-e3ff46799266",
   "metadata": {},
   "outputs": [
    {
     "name": "stdout",
     "output_type": "stream",
     "text": [
      "['Inari', 'Marjukka', 'Listenmaa']\n"
     ]
    }
   ],
   "source": [
    "name = \"Inari Marjukka Listenmaa\"\n",
    "names = name.split(\" \")\n",
    "print(names)    "
   ]
  },
  {
   "cell_type": "code",
   "execution_count": 20,
   "id": "4114adaa-b170-4ef9-adb5-671c5e9c9656",
   "metadata": {},
   "outputs": [
    {
     "name": "stdout",
     "output_type": "stream",
     "text": [
      "Boring things\n",
      "Boring things\n",
      " IMPORTANT: You are a great programmer\n",
      "IMPORTANT: You are a great programmer\n",
      " Boring things\n",
      "Boring things\n",
      "\n",
      "\n"
     ]
    }
   ],
   "source": [
    "s = 'Boring things. IMPORTANT: You are a great programmer. Boring things.'\n",
    "l = s.split(\".\")\n",
    "for sentence in l:\n",
    "    print(sentence)\n",
    "    print(sentence.strip())"
   ]
  },
  {
   "cell_type": "code",
   "execution_count": 23,
   "id": "7a19ea0e-df6c-4a20-a73c-8a87a9a7bc1f",
   "metadata": {},
   "outputs": [
    {
     "name": "stdout",
     "output_type": "stream",
     "text": [
      "Inari💖🦄🌈💕🤪🥸🥺🤬Marjukka💖🦄🌈💕🤪🥸🥺🤬Listenmaa\n"
     ]
    }
   ],
   "source": [
    "name = \"Inari Marjukka Listenmaa\"\n",
    "names = name.split()\n",
    "fancy_name = \"💖🦄🌈💕🤪🥸🥺🤬\".join(names)\n",
    "print(fancy_name)"
   ]
  },
  {
   "cell_type": "markdown",
   "id": "2fb22935-f76f-4ee9-a986-0c50bdb6c469",
   "metadata": {},
   "source": [
    "# Bonus: implementing our own split"
   ]
  },
  {
   "cell_type": "code",
   "execution_count": 34,
   "id": "abad3e1f-54a8-4ab4-95ce-f65e8a8d6248",
   "metadata": {},
   "outputs": [
    {
     "name": "stdout",
     "output_type": "stream",
     "text": [
      "['I', 'am', 'a', 'big', 'fluffy', 'cat', '🐱']\n",
      "['I', 'am', 'a', 'big', 'fluffy', 'cat']\n"
     ]
    }
   ],
   "source": [
    "def my_split(string, delimiter):\n",
    "    parts = []\n",
    "    curr_word = \"\"\n",
    "    # Two conditions to split out a blob of characters:\n",
    "    # 1) we hit a delimiter, or\n",
    "    # 2) the word has ended\n",
    "    # That's why we loop with the word and its index.\n",
    "    # enumerate(…) is like zip, but the first item of the pair is a number.\n",
    "    # enumerate(string, 1) starts from index 1.\n",
    "    for index, char in enumerate(string,1):\n",
    "        if index == len(string):\n",
    "            curr_word += char # We add the last character\n",
    "            parts.append(curr_word)\n",
    "        elif char == delimiter:\n",
    "            parts.append(curr_word) # We don't add the delimiter\n",
    "            curr_word = \"\"          # Empty curr_word for next round\n",
    "        else:\n",
    "            curr_word += char       # Just add character, it's still ongoing\n",
    "\n",
    "    return parts # Finally, return parts\n",
    "\n",
    "cat_splits = my_split(\"I am a big fluffy cat 🐱\", \" \")\n",
    "print(cat_splits)\n",
    "\n",
    "cat_splits2 = my_split(\"I🐱am🐱a🐱big🐱fluffy🐱cat\", \"🐱\")\n",
    "print(cat_splits2)"
   ]
  },
  {
   "cell_type": "code",
   "execution_count": null,
   "id": "5fc04a08-d794-4c70-b5ae-f846528574e6",
   "metadata": {},
   "outputs": [],
   "source": []
  }
 ],
 "metadata": {
  "kernelspec": {
   "display_name": "anaconda-ai-2024.04-py310",
   "language": "python",
   "name": "conda-env-anaconda-ai-2024.04-py310-py"
  },
  "language_info": {
   "codemirror_mode": {
    "name": "ipython",
    "version": 3
   },
   "file_extension": ".py",
   "mimetype": "text/x-python",
   "name": "python",
   "nbconvert_exporter": "python",
   "pygments_lexer": "ipython3",
   "version": "3.10.13"
  }
 },
 "nbformat": 4,
 "nbformat_minor": 5
}
